{
 "cells": [
  {
   "cell_type": "code",
   "execution_count": 3,
   "metadata": {},
   "outputs": [
    {
     "name": "stdout",
     "output_type": "stream",
     "text": [
      "Collecting scikit-image\n",
      "  Downloading scikit_image-0.22.0-cp39-cp39-macosx_12_0_arm64.whl (13.3 MB)\n",
      "\u001b[K     |████████████████████████████████| 13.3 MB 3.4 MB/s eta 0:00:01\n",
      "\u001b[?25hCollecting networkx>=2.8\n",
      "  Using cached networkx-3.2.1-py3-none-any.whl (1.6 MB)\n",
      "Collecting lazy_loader>=0.3\n",
      "  Using cached lazy_loader-0.3-py3-none-any.whl (9.1 kB)\n",
      "Requirement already satisfied: packaging>=21 in /Users/tanmayiballa/.pyenv/versions/3.9.7/lib/python3.9/site-packages (from scikit-image) (23.2)\n",
      "Requirement already satisfied: numpy>=1.22 in /Users/tanmayiballa/.pyenv/versions/3.9.7/lib/python3.9/site-packages (from scikit-image) (1.26.1)\n",
      "Requirement already satisfied: pillow>=9.0.1 in /Users/tanmayiballa/.pyenv/versions/3.9.7/lib/python3.9/site-packages (from scikit-image) (10.1.0)\n",
      "Collecting imageio>=2.27\n",
      "  Using cached imageio-2.33.0-py3-none-any.whl (313 kB)\n",
      "Collecting scipy>=1.8\n",
      "  Downloading scipy-1.11.4-cp39-cp39-macosx_12_0_arm64.whl (29.7 MB)\n",
      "\u001b[K     |████████████████████████████████| 29.7 MB 53.0 MB/s eta 0:00:01█████████████████▏ | 28.0 MB 53.0 MB/s eta 0:00:01\n",
      "\u001b[?25hCollecting tifffile>=2022.8.12\n",
      "  Using cached tifffile-2023.9.26-py3-none-any.whl (222 kB)\n",
      "Installing collected packages: tifffile, scipy, networkx, lazy-loader, imageio, scikit-image\n",
      "Successfully installed imageio-2.33.0 lazy-loader-0.3 networkx-3.2.1 scikit-image-0.22.0 scipy-1.11.4 tifffile-2023.9.26\n",
      "\u001b[33mWARNING: You are using pip version 21.2.3; however, version 23.3.1 is available.\n",
      "You should consider upgrading via the '/Users/tanmayiballa/.pyenv/versions/3.9.7/bin/python3.9 -m pip install --upgrade pip' command.\u001b[0m\n"
     ]
    }
   ],
   "source": [
    "!pip install scikit-image"
   ]
  },
  {
   "cell_type": "code",
   "execution_count": 5,
   "metadata": {},
   "outputs": [
    {
     "name": "stdout",
     "output_type": "stream",
     "text": [
      "Collecting matplotlib\n",
      "  Downloading matplotlib-3.8.2-cp39-cp39-macosx_11_0_arm64.whl (7.5 MB)\n",
      "\u001b[K     |████████████████████████████████| 7.5 MB 3.8 MB/s eta 0:00:01\n",
      "\u001b[?25hRequirement already satisfied: numpy<2,>=1.21 in /Users/tanmayiballa/.pyenv/versions/3.9.7/lib/python3.9/site-packages (from matplotlib) (1.26.1)\n",
      "Requirement already satisfied: pillow>=8 in /Users/tanmayiballa/.pyenv/versions/3.9.7/lib/python3.9/site-packages (from matplotlib) (10.1.0)\n",
      "Requirement already satisfied: python-dateutil>=2.7 in /Users/tanmayiballa/.pyenv/versions/3.9.7/lib/python3.9/site-packages (from matplotlib) (2.8.2)\n",
      "Collecting importlib-resources>=3.2.0\n",
      "  Downloading importlib_resources-6.1.1-py3-none-any.whl (33 kB)\n",
      "Collecting kiwisolver>=1.3.1\n",
      "  Downloading kiwisolver-1.4.5-cp39-cp39-macosx_11_0_arm64.whl (66 kB)\n",
      "\u001b[K     |████████████████████████████████| 66 kB 18.5 MB/s eta 0:00:01\n",
      "\u001b[?25hCollecting pyparsing>=2.3.1\n",
      "  Using cached pyparsing-3.1.1-py3-none-any.whl (103 kB)\n",
      "Collecting cycler>=0.10\n",
      "  Using cached cycler-0.12.1-py3-none-any.whl (8.3 kB)\n",
      "Collecting contourpy>=1.0.1\n",
      "  Downloading contourpy-1.2.0-cp39-cp39-macosx_11_0_arm64.whl (242 kB)\n",
      "\u001b[K     |████████████████████████████████| 242 kB 54.2 MB/s eta 0:00:01\n",
      "\u001b[?25hRequirement already satisfied: packaging>=20.0 in /Users/tanmayiballa/.pyenv/versions/3.9.7/lib/python3.9/site-packages (from matplotlib) (23.2)\n",
      "Collecting fonttools>=4.22.0\n",
      "  Downloading fonttools-4.45.1-cp39-cp39-macosx_10_9_universal2.whl (2.8 MB)\n",
      "\u001b[K     |████████████████████████████████| 2.8 MB 59.8 MB/s eta 0:00:01| 1.5 MB 59.8 MB/s eta 0:00:01\n",
      "\u001b[?25hRequirement already satisfied: zipp>=3.1.0 in /Users/tanmayiballa/.pyenv/versions/3.9.7/lib/python3.9/site-packages (from importlib-resources>=3.2.0->matplotlib) (3.17.0)\n",
      "Requirement already satisfied: six>=1.5 in /Users/tanmayiballa/.pyenv/versions/3.9.7/lib/python3.9/site-packages (from python-dateutil>=2.7->matplotlib) (1.16.0)\n",
      "Installing collected packages: pyparsing, kiwisolver, importlib-resources, fonttools, cycler, contourpy, matplotlib\n",
      "Successfully installed contourpy-1.2.0 cycler-0.12.1 fonttools-4.45.1 importlib-resources-6.1.1 kiwisolver-1.4.5 matplotlib-3.8.2 pyparsing-3.1.1\n",
      "\u001b[33mWARNING: You are using pip version 21.2.3; however, version 23.3.1 is available.\n",
      "You should consider upgrading via the '/Users/tanmayiballa/.pyenv/versions/3.9.7/bin/python3.9 -m pip install --upgrade pip' command.\u001b[0m\n"
     ]
    }
   ],
   "source": [
    "!pip install matplotlib"
   ]
  },
  {
   "cell_type": "code",
   "execution_count": 11,
   "metadata": {},
   "outputs": [
    {
     "name": "stdout",
     "output_type": "stream",
     "text": [
      "Collecting tensorflow\n",
      "  Downloading tensorflow-2.15.0-cp39-cp39-macosx_12_0_arm64.whl (2.1 kB)\n",
      "Collecting tensorflow-macos==2.15.0\n",
      "  Downloading tensorflow_macos-2.15.0-cp39-cp39-macosx_12_0_arm64.whl (208.8 MB)\n",
      "\u001b[K     |████████████████████████████████| 208.8 MB 3.3 kB/s  eta 0:00:01   |                                | 256 kB 12.0 MB/s eta 0:00:18     |██████████████▊                 | 95.8 MB 26.7 MB/s eta 0:00:05█████████▊              | 115.4 MB 37.1 MB/s eta 0:00:03     |████████████████████▉           | 135.7 MB 37.1 MB/s eta 0:00:02████▍         | 146.2 MB 37.1 MB/s eta 0:00:02��████████████████▏       | 157.5 MB 37.1 MB/s eta 0:00:02�████████▎    | 178.2 MB 68.0 MB/s eta 0:00:01��███████████████████▎  | 190.9 MB 68.0 MB/s eta 0:00:01�█████████▎ | 197.2 MB 68.0 MB/s eta 0:00:01\n",
      "\u001b[?25hCollecting h5py>=2.9.0\n",
      "  Using cached h5py-3.10.0-cp39-cp39-macosx_11_0_arm64.whl (2.7 MB)\n",
      "Collecting flatbuffers>=23.5.26\n",
      "  Using cached flatbuffers-23.5.26-py2.py3-none-any.whl (26 kB)\n",
      "Requirement already satisfied: packaging in /Users/tanmayiballa/.pyenv/versions/3.9.7/lib/python3.9/site-packages (from tensorflow-macos==2.15.0->tensorflow) (23.2)\n",
      "Collecting tensorflow-estimator<2.16,>=2.15.0\n",
      "  Downloading tensorflow_estimator-2.15.0-py2.py3-none-any.whl (441 kB)\n",
      "\u001b[K     |████████████████████████████████| 441 kB 48.5 MB/s eta 0:00:01\n",
      "\u001b[?25hRequirement already satisfied: protobuf!=4.21.0,!=4.21.1,!=4.21.2,!=4.21.3,!=4.21.4,!=4.21.5,<5.0.0dev,>=3.20.3 in /Users/tanmayiballa/.pyenv/versions/3.9.7/lib/python3.9/site-packages (from tensorflow-macos==2.15.0->tensorflow) (3.20.3)\n",
      "Collecting keras<2.16,>=2.15.0\n",
      "  Downloading keras-2.15.0-py3-none-any.whl (1.7 MB)\n",
      "\u001b[K     |████████████████████████████████| 1.7 MB 37.7 MB/s eta 0:00:01\n",
      "\u001b[?25hRequirement already satisfied: numpy<2.0.0,>=1.23.5 in /Users/tanmayiballa/.pyenv/versions/3.9.7/lib/python3.9/site-packages (from tensorflow-macos==2.15.0->tensorflow) (1.26.1)\n",
      "Requirement already satisfied: typing-extensions>=3.6.6 in /Users/tanmayiballa/.pyenv/versions/3.9.7/lib/python3.9/site-packages (from tensorflow-macos==2.15.0->tensorflow) (4.8.0)\n",
      "Collecting tensorboard<2.16,>=2.15\n",
      "  Downloading tensorboard-2.15.1-py3-none-any.whl (5.5 MB)\n",
      "\u001b[K     |████████████████████████████████| 5.5 MB 16.9 MB/s eta 0:00:01\n",
      "\u001b[?25hCollecting gast!=0.5.0,!=0.5.1,!=0.5.2,>=0.2.1\n",
      "  Using cached gast-0.5.4-py3-none-any.whl (19 kB)\n",
      "Collecting tensorflow-io-gcs-filesystem>=0.23.1\n",
      "  Using cached tensorflow_io_gcs_filesystem-0.34.0-cp39-cp39-macosx_12_0_arm64.whl (1.9 MB)\n",
      "Collecting grpcio<2.0,>=1.24.3\n",
      "  Downloading grpcio-1.59.3-cp39-cp39-macosx_10_10_universal2.whl (9.6 MB)\n",
      "\u001b[K     |████████████████████████████████| 9.6 MB 72.0 MB/s eta 0:00:01     |███████████████████████████████▉| 9.6 MB 72.0 MB/s eta 0:00:01\n",
      "\u001b[?25hRequirement already satisfied: six>=1.12.0 in /Users/tanmayiballa/.pyenv/versions/3.9.7/lib/python3.9/site-packages (from tensorflow-macos==2.15.0->tensorflow) (1.16.0)\n",
      "Collecting termcolor>=1.1.0\n",
      "  Downloading termcolor-2.4.0-py3-none-any.whl (7.7 kB)\n",
      "Collecting absl-py>=1.0.0\n",
      "  Using cached absl_py-2.0.0-py3-none-any.whl (130 kB)\n",
      "Collecting opt-einsum>=2.3.2\n",
      "  Using cached opt_einsum-3.3.0-py3-none-any.whl (65 kB)\n",
      "Collecting wrapt<1.15,>=1.11.0\n",
      "  Using cached wrapt-1.14.1-cp39-cp39-macosx_11_0_arm64.whl (35 kB)\n",
      "Collecting astunparse>=1.6.0\n",
      "  Using cached astunparse-1.6.3-py2.py3-none-any.whl (12 kB)\n",
      "Collecting libclang>=13.0.0\n",
      "  Using cached libclang-16.0.6-py2.py3-none-macosx_11_0_arm64.whl (20.6 MB)\n",
      "Collecting ml-dtypes~=0.2.0\n",
      "  Using cached ml_dtypes-0.2.0-cp39-cp39-macosx_10_9_universal2.whl (1.2 MB)\n",
      "Collecting google-pasta>=0.1.1\n",
      "  Using cached google_pasta-0.2.0-py3-none-any.whl (57 kB)\n",
      "Requirement already satisfied: setuptools in /Users/tanmayiballa/.pyenv/versions/3.9.7/lib/python3.9/site-packages (from tensorflow-macos==2.15.0->tensorflow) (57.4.0)\n",
      "Collecting wheel<1.0,>=0.23.0\n",
      "  Using cached wheel-0.42.0-py3-none-any.whl (65 kB)\n",
      "Collecting google-auth-oauthlib<2,>=0.5\n",
      "  Downloading google_auth_oauthlib-1.1.0-py2.py3-none-any.whl (19 kB)\n",
      "Collecting markdown>=2.6.8\n",
      "  Downloading Markdown-3.5.1-py3-none-any.whl (102 kB)\n",
      "\u001b[K     |████████████████████████████████| 102 kB 30.3 MB/s ta 0:00:01\n",
      "\u001b[?25hRequirement already satisfied: requests<3,>=2.21.0 in /Users/tanmayiballa/.pyenv/versions/3.9.7/lib/python3.9/site-packages (from tensorboard<2.16,>=2.15->tensorflow-macos==2.15.0->tensorflow) (2.31.0)\n",
      "Collecting tensorboard-data-server<0.8.0,>=0.7.0\n",
      "  Downloading tensorboard_data_server-0.7.2-py3-none-any.whl (2.4 kB)\n",
      "Collecting google-auth<3,>=1.6.3\n",
      "  Downloading google_auth-2.24.0-py2.py3-none-any.whl (183 kB)\n",
      "\u001b[K     |████████████████████████████████| 183 kB 46.9 MB/s eta 0:00:01\n",
      "\u001b[?25hCollecting werkzeug>=1.0.1\n",
      "  Downloading werkzeug-3.0.1-py3-none-any.whl (226 kB)\n",
      "\u001b[K     |████████████████████████████████| 226 kB 54.2 MB/s eta 0:00:01\n",
      "\u001b[?25hCollecting rsa<5,>=3.1.4\n",
      "  Using cached rsa-4.9-py3-none-any.whl (34 kB)\n",
      "Collecting pyasn1-modules>=0.2.1\n",
      "  Using cached pyasn1_modules-0.3.0-py2.py3-none-any.whl (181 kB)\n",
      "Requirement already satisfied: cachetools<6.0,>=2.0.0 in /Users/tanmayiballa/.pyenv/versions/3.9.7/lib/python3.9/site-packages (from google-auth<3,>=1.6.3->tensorboard<2.16,>=2.15->tensorflow-macos==2.15.0->tensorflow) (5.3.2)\n",
      "Collecting requests-oauthlib>=0.7.0\n",
      "  Using cached requests_oauthlib-1.3.1-py2.py3-none-any.whl (23 kB)\n",
      "Requirement already satisfied: importlib-metadata>=4.4 in /Users/tanmayiballa/.local/lib/python3.9/site-packages (from markdown>=2.6.8->tensorboard<2.16,>=2.15->tensorflow-macos==2.15.0->tensorflow) (6.6.0)\n",
      "Requirement already satisfied: zipp>=0.5 in /Users/tanmayiballa/.pyenv/versions/3.9.7/lib/python3.9/site-packages (from importlib-metadata>=4.4->markdown>=2.6.8->tensorboard<2.16,>=2.15->tensorflow-macos==2.15.0->tensorflow) (3.17.0)\n",
      "Collecting pyasn1<0.6.0,>=0.4.6\n",
      "  Downloading pyasn1-0.5.1-py2.py3-none-any.whl (84 kB)\n",
      "\u001b[K     |████████████████████████████████| 84 kB 14.9 MB/s eta 0:00:01\n",
      "\u001b[?25hRequirement already satisfied: charset-normalizer<4,>=2 in /Users/tanmayiballa/.pyenv/versions/3.9.7/lib/python3.9/site-packages (from requests<3,>=2.21.0->tensorboard<2.16,>=2.15->tensorflow-macos==2.15.0->tensorflow) (3.3.2)\n",
      "Requirement already satisfied: idna<4,>=2.5 in /Users/tanmayiballa/.pyenv/versions/3.9.7/lib/python3.9/site-packages (from requests<3,>=2.21.0->tensorboard<2.16,>=2.15->tensorflow-macos==2.15.0->tensorflow) (3.4)\n",
      "Requirement already satisfied: urllib3<3,>=1.21.1 in /Users/tanmayiballa/.pyenv/versions/3.9.7/lib/python3.9/site-packages (from requests<3,>=2.21.0->tensorboard<2.16,>=2.15->tensorflow-macos==2.15.0->tensorflow) (1.26.18)\n",
      "Requirement already satisfied: certifi>=2017.4.17 in /Users/tanmayiballa/.pyenv/versions/3.9.7/lib/python3.9/site-packages (from requests<3,>=2.21.0->tensorboard<2.16,>=2.15->tensorflow-macos==2.15.0->tensorflow) (2023.7.22)\n",
      "Collecting oauthlib>=3.0.0\n",
      "  Using cached oauthlib-3.2.2-py3-none-any.whl (151 kB)\n",
      "Requirement already satisfied: MarkupSafe>=2.1.1 in /Users/tanmayiballa/.local/lib/python3.9/site-packages (from werkzeug>=1.0.1->tensorboard<2.16,>=2.15->tensorflow-macos==2.15.0->tensorflow) (2.1.2)\n",
      "Installing collected packages: pyasn1, rsa, pyasn1-modules, oauthlib, requests-oauthlib, google-auth, wheel, werkzeug, tensorboard-data-server, markdown, grpcio, google-auth-oauthlib, absl-py, wrapt, termcolor, tensorflow-io-gcs-filesystem, tensorflow-estimator, tensorboard, opt-einsum, ml-dtypes, libclang, keras, h5py, google-pasta, gast, flatbuffers, astunparse, tensorflow-macos, tensorflow\n",
      "Successfully installed absl-py-2.0.0 astunparse-1.6.3 flatbuffers-23.5.26 gast-0.5.4 google-auth-2.24.0 google-auth-oauthlib-1.1.0 google-pasta-0.2.0 grpcio-1.59.3 h5py-3.10.0 keras-2.15.0 libclang-16.0.6 markdown-3.5.1 ml-dtypes-0.2.0 oauthlib-3.2.2 opt-einsum-3.3.0 pyasn1-0.5.1 pyasn1-modules-0.3.0 requests-oauthlib-1.3.1 rsa-4.9 tensorboard-2.15.1 tensorboard-data-server-0.7.2 tensorflow-2.15.0 tensorflow-estimator-2.15.0 tensorflow-io-gcs-filesystem-0.34.0 tensorflow-macos-2.15.0 termcolor-2.4.0 werkzeug-3.0.1 wheel-0.42.0 wrapt-1.14.1\n",
      "\u001b[33mWARNING: You are using pip version 21.2.3; however, version 23.3.1 is available.\n",
      "You should consider upgrading via the '/Users/tanmayiballa/.pyenv/versions/3.9.7/bin/python3.9 -m pip install --upgrade pip' command.\u001b[0m\n"
     ]
    }
   ],
   "source": [
    "!pip install tensorflow"
   ]
  },
  {
   "cell_type": "code",
   "execution_count": 25,
   "metadata": {},
   "outputs": [
    {
     "name": "stdout",
     "output_type": "stream",
     "text": [
      "Collecting imgaug\n",
      "  Using cached imgaug-0.4.0-py2.py3-none-any.whl (948 kB)\n",
      "Requirement already satisfied: scipy in /Users/tanmayiballa/.pyenv/versions/3.9.7/lib/python3.9/site-packages (from imgaug) (1.11.4)\n",
      "Requirement already satisfied: Pillow in /Users/tanmayiballa/.pyenv/versions/3.9.7/lib/python3.9/site-packages (from imgaug) (10.1.0)\n",
      "Requirement already satisfied: scikit-image>=0.14.2 in /Users/tanmayiballa/.pyenv/versions/3.9.7/lib/python3.9/site-packages (from imgaug) (0.22.0)\n",
      "Requirement already satisfied: numpy>=1.15 in /Users/tanmayiballa/.pyenv/versions/3.9.7/lib/python3.9/site-packages (from imgaug) (1.26.1)\n",
      "Requirement already satisfied: six in /Users/tanmayiballa/.pyenv/versions/3.9.7/lib/python3.9/site-packages (from imgaug) (1.16.0)\n",
      "Requirement already satisfied: matplotlib in /Users/tanmayiballa/.pyenv/versions/3.9.7/lib/python3.9/site-packages (from imgaug) (3.8.2)\n",
      "Collecting Shapely\n",
      "  Downloading shapely-2.0.2-cp39-cp39-macosx_11_0_arm64.whl (1.3 MB)\n",
      "\u001b[K     |████████████████████████████████| 1.3 MB 3.2 MB/s eta 0:00:01\n",
      "\u001b[?25hCollecting opencv-python\n",
      "  Using cached opencv_python-4.8.1.78-cp37-abi3-macosx_11_0_arm64.whl (33.1 MB)\n",
      "Requirement already satisfied: imageio in /Users/tanmayiballa/.pyenv/versions/3.9.7/lib/python3.9/site-packages (from imgaug) (2.33.0)\n",
      "Requirement already satisfied: networkx>=2.8 in /Users/tanmayiballa/.pyenv/versions/3.9.7/lib/python3.9/site-packages (from scikit-image>=0.14.2->imgaug) (3.2.1)\n",
      "Requirement already satisfied: lazy_loader>=0.3 in /Users/tanmayiballa/.pyenv/versions/3.9.7/lib/python3.9/site-packages (from scikit-image>=0.14.2->imgaug) (0.3)\n",
      "Requirement already satisfied: packaging>=21 in /Users/tanmayiballa/.pyenv/versions/3.9.7/lib/python3.9/site-packages (from scikit-image>=0.14.2->imgaug) (23.2)\n",
      "Requirement already satisfied: tifffile>=2022.8.12 in /Users/tanmayiballa/.pyenv/versions/3.9.7/lib/python3.9/site-packages (from scikit-image>=0.14.2->imgaug) (2023.9.26)\n",
      "Requirement already satisfied: python-dateutil>=2.7 in /Users/tanmayiballa/.pyenv/versions/3.9.7/lib/python3.9/site-packages (from matplotlib->imgaug) (2.8.2)\n",
      "Requirement already satisfied: kiwisolver>=1.3.1 in /Users/tanmayiballa/.pyenv/versions/3.9.7/lib/python3.9/site-packages (from matplotlib->imgaug) (1.4.5)\n",
      "Requirement already satisfied: contourpy>=1.0.1 in /Users/tanmayiballa/.pyenv/versions/3.9.7/lib/python3.9/site-packages (from matplotlib->imgaug) (1.2.0)\n",
      "Requirement already satisfied: cycler>=0.10 in /Users/tanmayiballa/.pyenv/versions/3.9.7/lib/python3.9/site-packages (from matplotlib->imgaug) (0.12.1)\n",
      "Requirement already satisfied: pyparsing>=2.3.1 in /Users/tanmayiballa/.pyenv/versions/3.9.7/lib/python3.9/site-packages (from matplotlib->imgaug) (3.1.1)\n",
      "Requirement already satisfied: importlib-resources>=3.2.0 in /Users/tanmayiballa/.pyenv/versions/3.9.7/lib/python3.9/site-packages (from matplotlib->imgaug) (6.1.1)\n",
      "Requirement already satisfied: fonttools>=4.22.0 in /Users/tanmayiballa/.pyenv/versions/3.9.7/lib/python3.9/site-packages (from matplotlib->imgaug) (4.45.1)\n",
      "Requirement already satisfied: zipp>=3.1.0 in /Users/tanmayiballa/.pyenv/versions/3.9.7/lib/python3.9/site-packages (from importlib-resources>=3.2.0->matplotlib->imgaug) (3.17.0)\n",
      "Installing collected packages: Shapely, opencv-python, imgaug\n",
      "Successfully installed Shapely-2.0.2 imgaug-0.4.0 opencv-python-4.8.1.78\n",
      "\u001b[33mWARNING: You are using pip version 21.2.3; however, version 23.3.1 is available.\n",
      "You should consider upgrading via the '/Users/tanmayiballa/.pyenv/versions/3.9.7/bin/python3.9 -m pip install --upgrade pip' command.\u001b[0m\n"
     ]
    }
   ],
   "source": [
    "!pip install imgaug"
   ]
  },
  {
   "cell_type": "code",
   "execution_count": 13,
   "metadata": {},
   "outputs": [
    {
     "name": "stdout",
     "output_type": "stream",
     "text": [
      "Requirement already satisfied: keras in /Users/tanmayiballa/.pyenv/versions/3.9.7/lib/python3.9/site-packages (2.15.0)\n",
      "\u001b[33mWARNING: You are using pip version 21.2.3; however, version 23.3.1 is available.\n",
      "You should consider upgrading via the '/Users/tanmayiballa/.pyenv/versions/3.9.7/bin/python3.9 -m pip install --upgrade pip' command.\u001b[0m\n"
     ]
    }
   ],
   "source": [
    "!pip install keras"
   ]
  },
  {
   "cell_type": "code",
   "execution_count": 27,
   "metadata": {},
   "outputs": [
    {
     "name": "stderr",
     "output_type": "stream",
     "text": [
      "python(20249) MallocStackLogging: can't turn off malloc stack logging because it was not enabled.\n"
     ]
    },
    {
     "name": "stdout",
     "output_type": "stream",
     "text": [
      "Collecting pycocotools\n",
      "  Downloading pycocotools-2.0.7-cp39-cp39-macosx_10_9_universal2.whl (169 kB)\n",
      "\u001b[K     |████████████████████████████████| 169 kB 5.7 MB/s eta 0:00:01\n",
      "\u001b[?25hRequirement already satisfied: matplotlib>=2.1.0 in /Users/tanmayiballa/.pyenv/versions/3.9.7/lib/python3.9/site-packages (from pycocotools) (3.8.2)\n",
      "Requirement already satisfied: numpy in /Users/tanmayiballa/.pyenv/versions/3.9.7/lib/python3.9/site-packages (from pycocotools) (1.26.1)\n",
      "Requirement already satisfied: importlib-resources>=3.2.0 in /Users/tanmayiballa/.pyenv/versions/3.9.7/lib/python3.9/site-packages (from matplotlib>=2.1.0->pycocotools) (6.1.1)\n",
      "Requirement already satisfied: fonttools>=4.22.0 in /Users/tanmayiballa/.pyenv/versions/3.9.7/lib/python3.9/site-packages (from matplotlib>=2.1.0->pycocotools) (4.45.1)\n",
      "Requirement already satisfied: python-dateutil>=2.7 in /Users/tanmayiballa/.pyenv/versions/3.9.7/lib/python3.9/site-packages (from matplotlib>=2.1.0->pycocotools) (2.8.2)\n",
      "Requirement already satisfied: kiwisolver>=1.3.1 in /Users/tanmayiballa/.pyenv/versions/3.9.7/lib/python3.9/site-packages (from matplotlib>=2.1.0->pycocotools) (1.4.5)\n",
      "Requirement already satisfied: cycler>=0.10 in /Users/tanmayiballa/.pyenv/versions/3.9.7/lib/python3.9/site-packages (from matplotlib>=2.1.0->pycocotools) (0.12.1)\n",
      "Requirement already satisfied: pyparsing>=2.3.1 in /Users/tanmayiballa/.pyenv/versions/3.9.7/lib/python3.9/site-packages (from matplotlib>=2.1.0->pycocotools) (3.1.1)\n",
      "Requirement already satisfied: pillow>=8 in /Users/tanmayiballa/.pyenv/versions/3.9.7/lib/python3.9/site-packages (from matplotlib>=2.1.0->pycocotools) (10.1.0)\n",
      "Requirement already satisfied: packaging>=20.0 in /Users/tanmayiballa/.pyenv/versions/3.9.7/lib/python3.9/site-packages (from matplotlib>=2.1.0->pycocotools) (23.2)\n",
      "Requirement already satisfied: contourpy>=1.0.1 in /Users/tanmayiballa/.pyenv/versions/3.9.7/lib/python3.9/site-packages (from matplotlib>=2.1.0->pycocotools) (1.2.0)\n",
      "Requirement already satisfied: zipp>=3.1.0 in /Users/tanmayiballa/.pyenv/versions/3.9.7/lib/python3.9/site-packages (from importlib-resources>=3.2.0->matplotlib>=2.1.0->pycocotools) (3.17.0)\n",
      "Requirement already satisfied: six>=1.5 in /Users/tanmayiballa/.pyenv/versions/3.9.7/lib/python3.9/site-packages (from python-dateutil>=2.7->matplotlib>=2.1.0->pycocotools) (1.16.0)\n",
      "Installing collected packages: pycocotools\n",
      "Successfully installed pycocotools-2.0.7\n",
      "\u001b[33mWARNING: You are using pip version 21.2.3; however, version 23.3.1 is available.\n",
      "You should consider upgrading via the '/Users/tanmayiballa/.pyenv/versions/3.9.7/bin/python3.9 -m pip install --upgrade pip' command.\u001b[0m\n"
     ]
    }
   ],
   "source": [
    "!pip install pycocotools"
   ]
  },
  {
   "cell_type": "code",
   "execution_count": 24,
   "metadata": {},
   "outputs": [],
   "source": [
    "import os\n",
    "import sys\n",
    "import random\n",
    "import math\n",
    "import numpy as np\n",
    "import skimage.io\n",
    "import matplotlib\n",
    "import matplotlib.pyplot as plt\n",
    "import warnings\n",
    "warnings.filterwarnings(\"ignore\")\n"
   ]
  },
  {
   "cell_type": "code",
   "execution_count": 25,
   "metadata": {},
   "outputs": [],
   "source": [
    "from mrcnn import utils\n",
    "import mrcnn.model as modellib\n",
    "from mrcnn import visualize"
   ]
  },
  {
   "cell_type": "code",
   "execution_count": null,
   "metadata": {},
   "outputs": [],
   "source": []
  },
  {
   "cell_type": "code",
   "execution_count": 26,
   "metadata": {},
   "outputs": [],
   "source": [
    "%matplotlib inline\n"
   ]
  },
  {
   "cell_type": "code",
   "execution_count": 27,
   "metadata": {},
   "outputs": [
    {
     "data": {
      "text/plain": [
       "'/Users/tanmayiballa/User_interactive_image_segmentation/Mask_RCNN'"
      ]
     },
     "execution_count": 27,
     "metadata": {},
     "output_type": "execute_result"
    }
   ],
   "source": [
    "root = os.getcwd()\n",
    "root"
   ]
  },
  {
   "cell_type": "code",
   "execution_count": 28,
   "metadata": {},
   "outputs": [],
   "source": [
    "sys.path.append(os.path.join(root, \"samples/coco/\"))\n",
    "import coco"
   ]
  },
  {
   "cell_type": "code",
   "execution_count": 29,
   "metadata": {},
   "outputs": [],
   "source": [
    "MODEL_DIR = os.path.join(root, \"logs\")\n",
    "\n",
    "# Local path to trained weights file\n",
    "COCO_MODEL_PATH = os.path.join('', \"mask_rcnn_coco.h5\")\n",
    "\n",
    "# Download COCO trained weights from Releases if needed\n",
    "if not os.path.exists(COCO_MODEL_PATH):\n",
    "    utils.download_trained_weights(COCO_MODEL_PATH)\n",
    "\n",
    "# Directory of images to run detection on\n",
    "IMAGE_DIR = os.path.join(root, \"images\")"
   ]
  },
  {
   "cell_type": "code",
   "execution_count": 30,
   "metadata": {},
   "outputs": [
    {
     "name": "stdout",
     "output_type": "stream",
     "text": [
      "\n",
      "Configurations:\n",
      "BACKBONE                       resnet101\n",
      "BACKBONE_STRIDES               [4, 8, 16, 32, 64]\n",
      "BATCH_SIZE                     1\n",
      "BBOX_STD_DEV                   [0.1 0.1 0.2 0.2]\n",
      "COMPUTE_BACKBONE_SHAPE         None\n",
      "DETECTION_MAX_INSTANCES        100\n",
      "DETECTION_MIN_CONFIDENCE       0.7\n",
      "DETECTION_NMS_THRESHOLD        0.3\n",
      "FPN_CLASSIF_FC_LAYERS_SIZE     1024\n",
      "GPU_COUNT                      1\n",
      "GRADIENT_CLIP_NORM             5.0\n",
      "IMAGES_PER_GPU                 1\n",
      "IMAGE_CHANNEL_COUNT            3\n",
      "IMAGE_MAX_DIM                  1024\n",
      "IMAGE_META_SIZE                93\n",
      "IMAGE_MIN_DIM                  800\n",
      "IMAGE_MIN_SCALE                0\n",
      "IMAGE_RESIZE_MODE              square\n",
      "IMAGE_SHAPE                    [1024 1024    3]\n",
      "LEARNING_MOMENTUM              0.9\n",
      "LEARNING_RATE                  0.001\n",
      "LOSS_WEIGHTS                   {'rpn_class_loss': 1.0, 'rpn_bbox_loss': 1.0, 'mrcnn_class_loss': 1.0, 'mrcnn_bbox_loss': 1.0, 'mrcnn_mask_loss': 1.0}\n",
      "MASK_POOL_SIZE                 14\n",
      "MASK_SHAPE                     [28, 28]\n",
      "MAX_GT_INSTANCES               100\n",
      "MEAN_PIXEL                     [123.7 116.8 103.9]\n",
      "MINI_MASK_SHAPE                (56, 56)\n",
      "NAME                           coco\n",
      "NUM_CLASSES                    81\n",
      "POOL_SIZE                      7\n",
      "POST_NMS_ROIS_INFERENCE        1000\n",
      "POST_NMS_ROIS_TRAINING         2000\n",
      "PRE_NMS_LIMIT                  6000\n",
      "ROI_POSITIVE_RATIO             0.33\n",
      "RPN_ANCHOR_RATIOS              [0.5, 1, 2]\n",
      "RPN_ANCHOR_SCALES              (32, 64, 128, 256, 512)\n",
      "RPN_ANCHOR_STRIDE              1\n",
      "RPN_BBOX_STD_DEV               [0.1 0.1 0.2 0.2]\n",
      "RPN_NMS_THRESHOLD              0.7\n",
      "RPN_TRAIN_ANCHORS_PER_IMAGE    256\n",
      "STEPS_PER_EPOCH                1000\n",
      "TOP_DOWN_PYRAMID_SIZE          256\n",
      "TRAIN_BN                       False\n",
      "TRAIN_ROIS_PER_IMAGE           200\n",
      "USE_MINI_MASK                  True\n",
      "USE_RPN_ROIS                   True\n",
      "VALIDATION_STEPS               50\n",
      "WEIGHT_DECAY                   0.0001\n",
      "\n",
      "\n"
     ]
    }
   ],
   "source": [
    "class InferenceConfig(coco.CocoConfig):\n",
    "    # Set batch size to 1 since we'll be running inference on\n",
    "    # one image at a time. Batch size = GPU_COUNT * IMAGES_PER_GPU\n",
    "    GPU_COUNT = 1\n",
    "    IMAGES_PER_GPU = 1\n",
    "\n",
    "config = InferenceConfig()\n",
    "config.display()\n"
   ]
  },
  {
   "cell_type": "code",
   "execution_count": 31,
   "metadata": {},
   "outputs": [
    {
     "ename": "ValueError",
     "evalue": "Attempt to convert a value (None) with an unsupported type (<class 'NoneType'>) to a Tensor.",
     "output_type": "error",
     "traceback": [
      "\u001b[0;31m---------------------------------------------------------------------------\u001b[0m",
      "\u001b[0;31mValueError\u001b[0m                                Traceback (most recent call last)",
      "\u001b[1;32m/Users/tanmayiballa/User_interactive_image_segmentation/Mask_RCNN/infer.ipynb Cell 15\u001b[0m line \u001b[0;36m1\n\u001b[0;32m----> <a href='vscode-notebook-cell:/Users/tanmayiballa/User_interactive_image_segmentation/Mask_RCNN/infer.ipynb#X20sZmlsZQ%3D%3D?line=0'>1</a>\u001b[0m model \u001b[39m=\u001b[39m modellib\u001b[39m.\u001b[39;49mMaskRCNN(mode\u001b[39m=\u001b[39;49m\u001b[39m\"\u001b[39;49m\u001b[39minference\u001b[39;49m\u001b[39m\"\u001b[39;49m, model_dir\u001b[39m=\u001b[39;49m\u001b[39m'\u001b[39;49m\u001b[39mmask_rcnn_coco.hy\u001b[39;49m\u001b[39m'\u001b[39;49m, config\u001b[39m=\u001b[39;49mconfig)\n\u001b[1;32m      <a href='vscode-notebook-cell:/Users/tanmayiballa/User_interactive_image_segmentation/Mask_RCNN/infer.ipynb#X20sZmlsZQ%3D%3D?line=2'>3</a>\u001b[0m model\u001b[39m.\u001b[39mload_weights(\u001b[39m'\u001b[39m\u001b[39mmask_rcnn_coco.h5\u001b[39m\u001b[39m'\u001b[39m, by_name\u001b[39m=\u001b[39m\u001b[39mTrue\u001b[39;00m)\n",
      "File \u001b[0;32m~/User_interactive_image_segmentation/Mask_RCNN/mrcnn/model.py:1844\u001b[0m, in \u001b[0;36mMaskRCNN.__init__\u001b[0;34m(self, mode, config, model_dir)\u001b[0m\n\u001b[1;32m   1842\u001b[0m \u001b[39mself\u001b[39m\u001b[39m.\u001b[39mmodel_dir \u001b[39m=\u001b[39m model_dir\n\u001b[1;32m   1843\u001b[0m \u001b[39mself\u001b[39m\u001b[39m.\u001b[39mset_log_dir()\n\u001b[0;32m-> 1844\u001b[0m \u001b[39mself\u001b[39m\u001b[39m.\u001b[39mkeras_model \u001b[39m=\u001b[39m \u001b[39mself\u001b[39;49m\u001b[39m.\u001b[39;49mbuild(mode\u001b[39m=\u001b[39;49mmode, config\u001b[39m=\u001b[39;49mconfig)\n",
      "File \u001b[0;32m~/User_interactive_image_segmentation/Mask_RCNN/mrcnn/model.py:2050\u001b[0m, in \u001b[0;36mMaskRCNN.build\u001b[0;34m(self, mode, config)\u001b[0m\n\u001b[1;32m   2041\u001b[0m mrcnn_class_logits, mrcnn_class, mrcnn_bbox \u001b[39m=\u001b[39m\\\n\u001b[1;32m   2042\u001b[0m     fpn_classifier_graph(rpn_rois, mrcnn_feature_maps, input_image_meta,\n\u001b[1;32m   2043\u001b[0m                          config\u001b[39m.\u001b[39mPOOL_SIZE, config\u001b[39m.\u001b[39mNUM_CLASSES,\n\u001b[1;32m   2044\u001b[0m                          train_bn\u001b[39m=\u001b[39mconfig\u001b[39m.\u001b[39mTRAIN_BN,\n\u001b[1;32m   2045\u001b[0m                          fc_layers_size\u001b[39m=\u001b[39mconfig\u001b[39m.\u001b[39mFPN_CLASSIF_FC_LAYERS_SIZE)\n\u001b[1;32m   2047\u001b[0m \u001b[39m# Detections\u001b[39;00m\n\u001b[1;32m   2048\u001b[0m \u001b[39m# output is [batch, num_detections, (y1, x1, y2, x2, class_id, score)] in\u001b[39;00m\n\u001b[1;32m   2049\u001b[0m \u001b[39m# normalized coordinates\u001b[39;00m\n\u001b[0;32m-> 2050\u001b[0m detections \u001b[39m=\u001b[39m DetectionLayer(config, name\u001b[39m=\u001b[39;49m\u001b[39m\"\u001b[39;49m\u001b[39mmrcnn_detection\u001b[39;49m\u001b[39m\"\u001b[39;49m)(\n\u001b[1;32m   2051\u001b[0m     [rpn_rois, mrcnn_class, mrcnn_bbox, input_image_meta])\n\u001b[1;32m   2053\u001b[0m \u001b[39m# Create masks for detections\u001b[39;00m\n\u001b[1;32m   2054\u001b[0m detection_boxes \u001b[39m=\u001b[39m KL\u001b[39m.\u001b[39mLambda(\u001b[39mlambda\u001b[39;00m x: x[\u001b[39m.\u001b[39m\u001b[39m.\u001b[39m\u001b[39m.\u001b[39m, :\u001b[39m4\u001b[39m])(detections)\n",
      "File \u001b[0;32m~/.pyenv/versions/3.9.7/lib/python3.9/site-packages/tensorflow/python/keras/engine/base_layer.py:1043\u001b[0m, in \u001b[0;36mLayer.__call__\u001b[0;34m(self, *args, **kwargs)\u001b[0m\n\u001b[1;32m   1039\u001b[0m   inputs \u001b[39m=\u001b[39m \u001b[39mself\u001b[39m\u001b[39m.\u001b[39m_maybe_cast_inputs(inputs, input_list)\n\u001b[1;32m   1041\u001b[0m \u001b[39mwith\u001b[39;00m autocast_variable\u001b[39m.\u001b[39menable_auto_cast_variables(\n\u001b[1;32m   1042\u001b[0m     \u001b[39mself\u001b[39m\u001b[39m.\u001b[39m_compute_dtype_object):\n\u001b[0;32m-> 1043\u001b[0m   outputs \u001b[39m=\u001b[39m call_fn(inputs, \u001b[39m*\u001b[39;49margs, \u001b[39m*\u001b[39;49m\u001b[39m*\u001b[39;49mkwargs)\n\u001b[1;32m   1045\u001b[0m \u001b[39mif\u001b[39;00m \u001b[39mself\u001b[39m\u001b[39m.\u001b[39m_activity_regularizer:\n\u001b[1;32m   1046\u001b[0m   \u001b[39mself\u001b[39m\u001b[39m.\u001b[39m_handle_activity_regularization(inputs, outputs)\n",
      "File \u001b[0;32m~/User_interactive_image_segmentation/Mask_RCNN/mrcnn/model.py:812\u001b[0m, in \u001b[0;36mDetectionLayer.call\u001b[0;34m(self, inputs)\u001b[0m\n\u001b[1;32m    809\u001b[0m window \u001b[39m=\u001b[39m norm_boxes_graph(m[\u001b[39m'\u001b[39m\u001b[39mwindow\u001b[39m\u001b[39m'\u001b[39m], image_shape[:\u001b[39m2\u001b[39m])\n\u001b[1;32m    811\u001b[0m \u001b[39m# Run detection refinement graph on each item in the batch\u001b[39;00m\n\u001b[0;32m--> 812\u001b[0m detections_batch \u001b[39m=\u001b[39m utils\u001b[39m.\u001b[39;49mbatch_slice(\n\u001b[1;32m    813\u001b[0m     [rois, mrcnn_class, mrcnn_bbox, window],\n\u001b[1;32m    814\u001b[0m     \u001b[39mlambda\u001b[39;49;00m x, y, w, z: refine_detections_graph(x, y, w, z, \u001b[39mself\u001b[39;49m\u001b[39m.\u001b[39;49mconfig),\n\u001b[1;32m    815\u001b[0m     \u001b[39mself\u001b[39;49m\u001b[39m.\u001b[39;49mconfig\u001b[39m.\u001b[39;49mIMAGES_PER_GPU)\n\u001b[1;32m    817\u001b[0m \u001b[39m# Reshape output\u001b[39;00m\n\u001b[1;32m    818\u001b[0m \u001b[39m# [batch, num_detections, (y1, x1, y2, x2, class_id, class_score)] in\u001b[39;00m\n\u001b[1;32m    819\u001b[0m \u001b[39m# normalized coordinates\u001b[39;00m\n\u001b[1;32m    820\u001b[0m \u001b[39mreturn\u001b[39;00m tf\u001b[39m.\u001b[39mreshape(\n\u001b[1;32m    821\u001b[0m     detections_batch,\n\u001b[1;32m    822\u001b[0m     [\u001b[39mself\u001b[39m\u001b[39m.\u001b[39mconfig\u001b[39m.\u001b[39mBATCH_SIZE, \u001b[39mself\u001b[39m\u001b[39m.\u001b[39mconfig\u001b[39m.\u001b[39mDETECTION_MAX_INSTANCES, \u001b[39m6\u001b[39m])\n",
      "File \u001b[0;32m~/User_interactive_image_segmentation/Mask_RCNN/mrcnn/utils.py:820\u001b[0m, in \u001b[0;36mbatch_slice\u001b[0;34m(inputs, graph_fn, batch_size, names)\u001b[0m\n\u001b[1;32m    818\u001b[0m \u001b[39mfor\u001b[39;00m i \u001b[39min\u001b[39;00m \u001b[39mrange\u001b[39m(batch_size):\n\u001b[1;32m    819\u001b[0m     inputs_slice \u001b[39m=\u001b[39m [x[i] \u001b[39mfor\u001b[39;00m x \u001b[39min\u001b[39;00m inputs]\n\u001b[0;32m--> 820\u001b[0m     output_slice \u001b[39m=\u001b[39m graph_fn(\u001b[39m*\u001b[39;49minputs_slice)\n\u001b[1;32m    821\u001b[0m     \u001b[39mif\u001b[39;00m \u001b[39mnot\u001b[39;00m \u001b[39misinstance\u001b[39m(output_slice, (\u001b[39mtuple\u001b[39m, \u001b[39mlist\u001b[39m)):\n\u001b[1;32m    822\u001b[0m         output_slice \u001b[39m=\u001b[39m [output_slice]\n",
      "File \u001b[0;32m~/User_interactive_image_segmentation/Mask_RCNN/mrcnn/model.py:814\u001b[0m, in \u001b[0;36mDetectionLayer.call.<locals>.<lambda>\u001b[0;34m(x, y, w, z)\u001b[0m\n\u001b[1;32m    809\u001b[0m window \u001b[39m=\u001b[39m norm_boxes_graph(m[\u001b[39m'\u001b[39m\u001b[39mwindow\u001b[39m\u001b[39m'\u001b[39m], image_shape[:\u001b[39m2\u001b[39m])\n\u001b[1;32m    811\u001b[0m \u001b[39m# Run detection refinement graph on each item in the batch\u001b[39;00m\n\u001b[1;32m    812\u001b[0m detections_batch \u001b[39m=\u001b[39m utils\u001b[39m.\u001b[39mbatch_slice(\n\u001b[1;32m    813\u001b[0m     [rois, mrcnn_class, mrcnn_bbox, window],\n\u001b[0;32m--> 814\u001b[0m     \u001b[39mlambda\u001b[39;00m x, y, w, z: refine_detections_graph(x, y, w, z, \u001b[39mself\u001b[39;49m\u001b[39m.\u001b[39;49mconfig),\n\u001b[1;32m    815\u001b[0m     \u001b[39mself\u001b[39m\u001b[39m.\u001b[39mconfig\u001b[39m.\u001b[39mIMAGES_PER_GPU)\n\u001b[1;32m    817\u001b[0m \u001b[39m# Reshape output\u001b[39;00m\n\u001b[1;32m    818\u001b[0m \u001b[39m# [batch, num_detections, (y1, x1, y2, x2, class_id, class_score)] in\u001b[39;00m\n\u001b[1;32m    819\u001b[0m \u001b[39m# normalized coordinates\u001b[39;00m\n\u001b[1;32m    820\u001b[0m \u001b[39mreturn\u001b[39;00m tf\u001b[39m.\u001b[39mreshape(\n\u001b[1;32m    821\u001b[0m     detections_batch,\n\u001b[1;32m    822\u001b[0m     [\u001b[39mself\u001b[39m\u001b[39m.\u001b[39mconfig\u001b[39m.\u001b[39mBATCH_SIZE, \u001b[39mself\u001b[39m\u001b[39m.\u001b[39mconfig\u001b[39m.\u001b[39mDETECTION_MAX_INSTANCES, \u001b[39m6\u001b[39m])\n",
      "File \u001b[0;32m~/User_interactive_image_segmentation/Mask_RCNN/mrcnn/model.py:704\u001b[0m, in \u001b[0;36mrefine_detections_graph\u001b[0;34m(rois, probs, deltas, window, config)\u001b[0m\n\u001b[1;32m    702\u001b[0m class_ids \u001b[39m=\u001b[39m tf\u001b[39m.\u001b[39margmax(probs, axis\u001b[39m=\u001b[39m\u001b[39m1\u001b[39m, output_type\u001b[39m=\u001b[39mtf\u001b[39m.\u001b[39mint32)\n\u001b[1;32m    703\u001b[0m \u001b[39m# Class probability of the top class of each ROI\u001b[39;00m\n\u001b[0;32m--> 704\u001b[0m indices \u001b[39m=\u001b[39m tf\u001b[39m.\u001b[39mstack([tf\u001b[39m.\u001b[39;49mrange(probs\u001b[39m.\u001b[39;49mshape[\u001b[39m0\u001b[39;49m]), class_ids], axis\u001b[39m=\u001b[39m\u001b[39m1\u001b[39m)\n\u001b[1;32m    705\u001b[0m class_scores \u001b[39m=\u001b[39m tf\u001b[39m.\u001b[39mgather_nd(probs, indices)\n\u001b[1;32m    706\u001b[0m \u001b[39m# Class-specific bounding box deltas\u001b[39;00m\n",
      "File \u001b[0;32m~/.pyenv/versions/3.9.7/lib/python3.9/site-packages/tensorflow/python/util/traceback_utils.py:153\u001b[0m, in \u001b[0;36mfilter_traceback.<locals>.error_handler\u001b[0;34m(*args, **kwargs)\u001b[0m\n\u001b[1;32m    151\u001b[0m \u001b[39mexcept\u001b[39;00m \u001b[39mException\u001b[39;00m \u001b[39mas\u001b[39;00m e:\n\u001b[1;32m    152\u001b[0m   filtered_tb \u001b[39m=\u001b[39m _process_traceback_frames(e\u001b[39m.\u001b[39m__traceback__)\n\u001b[0;32m--> 153\u001b[0m   \u001b[39mraise\u001b[39;00m e\u001b[39m.\u001b[39mwith_traceback(filtered_tb) \u001b[39mfrom\u001b[39;00m \u001b[39mNone\u001b[39;00m\n\u001b[1;32m    154\u001b[0m \u001b[39mfinally\u001b[39;00m:\n\u001b[1;32m    155\u001b[0m   \u001b[39mdel\u001b[39;00m filtered_tb\n",
      "File \u001b[0;32m~/.pyenv/versions/3.9.7/lib/python3.9/site-packages/tensorflow/python/framework/constant_op.py:103\u001b[0m, in \u001b[0;36mconvert_to_eager_tensor\u001b[0;34m(value, ctx, dtype)\u001b[0m\n\u001b[1;32m    101\u001b[0m     dtype \u001b[39m=\u001b[39m dtypes\u001b[39m.\u001b[39mas_dtype(dtype)\u001b[39m.\u001b[39mas_datatype_enum\n\u001b[1;32m    102\u001b[0m ctx\u001b[39m.\u001b[39mensure_initialized()\n\u001b[0;32m--> 103\u001b[0m \u001b[39mreturn\u001b[39;00m ops\u001b[39m.\u001b[39;49mEagerTensor(value, ctx\u001b[39m.\u001b[39;49mdevice_name, dtype)\n",
      "\u001b[0;31mValueError\u001b[0m: Attempt to convert a value (None) with an unsupported type (<class 'NoneType'>) to a Tensor."
     ]
    }
   ],
   "source": [
    "model = modellib.MaskRCNN(mode=\"inference\", model_dir='mask_rcnn_coco.hy', config=config)\n",
    "\n",
    "model.load_weights('mask_rcnn_coco.h5', by_name=True)"
   ]
  },
  {
   "cell_type": "code",
   "execution_count": null,
   "metadata": {},
   "outputs": [],
   "source": []
  }
 ],
 "metadata": {
  "kernelspec": {
   "display_name": "Python 3",
   "language": "python",
   "name": "python3"
  },
  "language_info": {
   "codemirror_mode": {
    "name": "ipython",
    "version": 3
   },
   "file_extension": ".py",
   "mimetype": "text/x-python",
   "name": "python",
   "nbconvert_exporter": "python",
   "pygments_lexer": "ipython3",
   "version": "3.9.7"
  }
 },
 "nbformat": 4,
 "nbformat_minor": 2
}
